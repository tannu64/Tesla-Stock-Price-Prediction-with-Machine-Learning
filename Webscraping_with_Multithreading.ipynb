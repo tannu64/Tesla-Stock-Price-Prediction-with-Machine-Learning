{
  "nbformat": 4,
  "nbformat_minor": 0,
  "metadata": {
    "colab": {
      "provenance": []
    },
    "kernelspec": {
      "name": "python3",
      "display_name": "Python 3"
    },
    "language_info": {
      "name": "python"
    }
  },
  "cells": [
    {
      "cell_type": "code",
      "execution_count": 1,
      "metadata": {
        "colab": {
          "base_uri": "https://localhost:8080/"
        },
        "id": "UYQnv2a93AY4",
        "outputId": "291ce5c3-56d6-4cca-ec9e-9ae4bf557189"
      },
      "outputs": [
        {
          "output_type": "stream",
          "name": "stdout",
          "text": [
            "Fetched https://www.python.org with status 200\n",
            "Fetched https://www.github.com with status 200\n",
            "Title: Welcome to Python.org\n",
            "Title: GitHub · Build and ship software on a single, collaborative platform · GitHub\n",
            "Scraping completed.\n"
          ]
        }
      ],
      "source": [
        "import requests\n",
        "from bs4 import BeautifulSoup\n",
        "import threading\n",
        "\n",
        "def fetch_url(url):\n",
        "    response = requests.get(url)\n",
        "    print(f\"Fetched {url} with status {response.status_code}\")\n",
        "    soup = BeautifulSoup(response.text, 'html.parser')\n",
        "    print(f\"Title: {soup.title.string}\")\n",
        "\n",
        "urls = [\n",
        "\n",
        "    \"https://www.python.org\",\n",
        "    \"https://www.github.com\"\n",
        "]\n",
        "\n",
        "threads = []\n",
        "for url in urls:\n",
        "    thread = threading.Thread(target=fetch_url, args=(url,))\n",
        "    threads.append(thread)\n",
        "    thread.start()\n",
        "\n",
        "for thread in threads:\n",
        "    thread.join()\n",
        "\n",
        "print(\"Scraping completed.\")\n"
      ]
    },
    {
      "cell_type": "markdown",
      "source": [
        "# **Image Processing with Multiprocessing**\n",
        "\n",
        "Imagine a scenario where you need to apply a filter to multiple images.\n",
        "\n",
        "\n"
      ],
      "metadata": {
        "id": "9VwoqJtU3pwg"
      }
    },
    {
      "cell_type": "code",
      "source": [
        "from PIL import Image, ImageFilter\n",
        "import multiprocessing\n",
        "import os\n",
        "\n",
        "def process_image(image_path):\n",
        "    img = Image.open(image_path)\n",
        "    img = img.filter(ImageFilter.BLUR)\n",
        "    output_path = f\"output/{os.path.basename(image_path)}\"\n",
        "    img.save(output_path)\n",
        "    print(f\"Processed {output_path}\")\n",
        "\n",
        "if __name__ == \"__main__\":\n",
        "    os.makedirs(\"output\", exist_ok=True)\n",
        "    image_paths = [\"image1.jpg\", \"image2.jpg\", \"image3.jpg\"]\n",
        "\n",
        "    with multiprocessing.Pool(processes=4) as pool:\n",
        "        pool.map(process_image, image_paths)\n",
        "\n",
        "    print(\"All images processed.\")\n"
      ],
      "metadata": {
        "id": "boEyvF9p3vsP"
      },
      "execution_count": null,
      "outputs": []
    }
  ]
}