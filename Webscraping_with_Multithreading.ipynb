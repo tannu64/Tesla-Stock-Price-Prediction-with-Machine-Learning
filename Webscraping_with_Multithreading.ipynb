{
  "nbformat": 4,
  "nbformat_minor": 0,
  "metadata": {
    "colab": {
      "provenance": [],
      "authorship_tag": "ABX9TyP8EhjQaAfdA14m5g6oEcsy",
      "include_colab_link": true
    },
    "kernelspec": {
      "name": "python3",
      "display_name": "Python 3"
    },
    "language_info": {
      "name": "python"
    }
  },
  "cells": [
    {
      "cell_type": "markdown",
      "metadata": {
        "id": "view-in-github",
        "colab_type": "text"
      },
      "source": [
        "<a href=\"https://colab.research.google.com/github/tannu64/Tesla-Stock-Price-Prediction-with-Machine-Learning/blob/main/Webscraping_with_Multithreading.ipynb\" target=\"_parent\"><img src=\"https://colab.research.google.com/assets/colab-badge.svg\" alt=\"Open In Colab\"/></a>"
      ]
    },
    {
      "cell_type": "code",
      "source": [
        "import threading\n",
        "import time\n",
        "\n",
        "def task(name):\n",
        "    print(f\"{name}: Starting\")\n",
        "    time.sleep(2)\n",
        "    print(f\"{name}: Finished\")\n",
        "\n",
        "# Create threads\n",
        "thread1 = threading.Thread(target=task, args=(\"Thread-1\",))\n",
        "thread2 = threading.Thread(target=task, args=(\"Thread-2\",))\n",
        "\n",
        "# Start threads\n",
        "thread1.start()\n",
        "thread2.start()\n",
        "\n",
        "# Wait for threads to finish\n",
        "thread1.join()\n",
        "thread2.join()\n",
        "\n",
        "print(\"All threads completed.\")\n"
      ],
      "metadata": {
        "colab": {
          "base_uri": "https://localhost:8080/"
        },
        "id": "Ll8iKX8w4mpm",
        "outputId": "5c45f4f0-b060-4395-eb82-8d08328af7e6"
      },
      "execution_count": 2,
      "outputs": [
        {
          "output_type": "stream",
          "name": "stdout",
          "text": [
            "Thread-1: StartingThread-2: Starting\n",
            "\n",
            "Thread-2: Finished\n",
            "Thread-1: Finished\n",
            "All threads completed.\n"
          ]
        }
      ]
    },
    {
      "cell_type": "code",
      "execution_count": 1,
      "metadata": {
        "colab": {
          "base_uri": "https://localhost:8080/"
        },
        "id": "UYQnv2a93AY4",
        "outputId": "291ce5c3-56d6-4cca-ec9e-9ae4bf557189"
      },
      "outputs": [
        {
          "output_type": "stream",
          "name": "stdout",
          "text": [
            "Fetched https://www.python.org with status 200\n",
            "Fetched https://www.github.com with status 200\n",
            "Title: Welcome to Python.org\n",
            "Title: GitHub · Build and ship software on a single, collaborative platform · GitHub\n",
            "Scraping completed.\n"
          ]
        }
      ],
      "source": [
        "import requests\n",
        "from bs4 import BeautifulSoup\n",
        "import threading\n",
        "\n",
        "def fetch_url(url):\n",
        "    response = requests.get(url)\n",
        "    print(f\"Fetched {url} with status {response.status_code}\")\n",
        "    soup = BeautifulSoup(response.text, 'html.parser')\n",
        "    print(f\"Title: {soup.title.string}\")\n",
        "\n",
        "urls = [\n",
        "\n",
        "    \"https://www.python.org\",\n",
        "    \"https://www.github.com\"\n",
        "]\n",
        "\n",
        "threads = []\n",
        "for url in urls:\n",
        "    thread = threading.Thread(target=fetch_url, args=(url,))\n",
        "    threads.append(thread)\n",
        "    thread.start()\n",
        "\n",
        "for thread in threads:\n",
        "    thread.join()\n",
        "\n",
        "print(\"Scraping completed.\")\n"
      ]
    },
    {
      "cell_type": "markdown",
      "source": [
        "# **Image Processing with Multiprocessing**\n",
        "\n",
        "Imagine a scenario where you need to apply a filter to multiple images.\n",
        "\n",
        "\n"
      ],
      "metadata": {
        "id": "9VwoqJtU3pwg"
      }
    },
    {
      "cell_type": "code",
      "source": [
        "from PIL import Image, ImageFilter\n",
        "import multiprocessing\n",
        "import os\n",
        "\n",
        "def process_image(image_path):\n",
        "    img = Image.open(image_path)\n",
        "    img = img.filter(ImageFilter.BLUR)\n",
        "    output_path = f\"output/{os.path.basename(image_path)}\"\n",
        "    img.save(output_path)\n",
        "    print(f\"Processed {output_path}\")\n",
        "\n",
        "if __name__ == \"__main__\":\n",
        "    os.makedirs(\"output\", exist_ok=True)\n",
        "    image_paths = [\"image1.jpg\", \"image2.jpg\", \"image3.jpg\"]\n",
        "\n",
        "    with multiprocessing.Pool(processes=4) as pool:\n",
        "        pool.map(process_image, image_paths)\n",
        "\n",
        "    print(\"All images processed.\")\n"
      ],
      "metadata": {
        "id": "boEyvF9p3vsP"
      },
      "execution_count": null,
      "outputs": []
    }
  ]
}